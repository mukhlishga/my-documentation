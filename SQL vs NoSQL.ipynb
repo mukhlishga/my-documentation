{
 "cells": [
  {
   "cell_type": "markdown",
   "metadata": {},
   "source": [
    "### SQL"
   ]
  },
  {
   "cell_type": "markdown",
   "metadata": {},
   "source": [
    "SQL pros:\n",
    "    \n",
    "1. Standardized schema\n",
    "While the standardized schema of SQL databases makes them rigid and difficult to modify, it does come with some advantages. All data added to the database must comply with the well-known schema of linked tables made up of rows and columns. Some may find this limiting or confining, but it is helpful when data consistency, integrity, and security is important. \n",
    "\n",
    "2. No code required\n",
    "SQL is a user-friendly language. Managing and querying the database can be accomplished using simple keywords with little to no coding required.\n",
    "\n",
    "3. ACID compliance\n",
    "    1. Atomicity: \n",
    "    All changes to data and transactions are executed completely and as a single operation. \n",
    "    If that isn’t possible, none of the changes are performed. It’s all or nothing.\n",
    "\n",
    "    2. Consistency: \n",
    "    The data must be valid and consistent at the start and end of a transaction.\n",
    "\n",
    "    3. Isolation: \n",
    "    Transactions run concurrently, without competing with each other. \n",
    "    Instead, they behave as though they are occurring successively. \n",
    "\n",
    "    4. Durability: \n",
    "    When a transaction is completed, its associated data is permanent and cannot be changed."
   ]
  },
  {
   "cell_type": "markdown",
   "metadata": {},
   "source": [
    "SQL cons:\n",
    "\n",
    "1. Resource-intensive scaling\n",
    "The norm for SQL databases is to scale-up vertically, where capacity can only be expanded by increasing capabilities, such as RAM, CPU, and SSD, on the existing server or by migrating to a larger one. This is expensive and time-consuming. On the other hand, NoSQL databases scale-out horizontally, making it easier and more cost-effective to expand capacity. They’re a good fit for cloud computing and handling extremely large and quickly growing datasets.\n",
    "\n",
    "3. Data Normalization\n",
    "As SQL databases get large, the lookups and joins required between numerous tables can slow things down. \n",
    "\n",
    "4. Rigidity\n",
    "A SQL database’s schema must be defined before use. Once in place, they are inflexible, and modifications are typically difficult and resource-intensive. For that reason, substantial time needs to be invested in upfront planning, before the database is ever put into production."
   ]
  },
  {
   "cell_type": "markdown",
   "metadata": {},
   "source": [
    "### NoSQL "
   ]
  },
  {
   "cell_type": "markdown",
   "metadata": {},
   "source": [
    "NoSQL pros:\n",
    "\n",
    "1. Continuous availability\n",
    "With NoSQL, data is distributed across multiple servers and regions, so there is no single point of failure. As a result, NoSQL databases are more stable and resilient, with continuous availability and zero downtime.\n",
    "\n",
    "2. Query speed\n",
    "Since NoSQL databases are denormalized, with no worry of data duplication, all the information needed for a particular query will often already be stored together—no joins required. This can make lookups easier, especially when working with large data volumes. It also means NoSQL can be very fast for simple queries. \n",
    "\n",
    "3. Agility\n",
    "With no normalization, data duplication was no longer a concern. Not constrained by rows and columns, NoSQL database schemas don’t have to be predefined. Instead, they are dynamic with the ability to handle all types of data, including structured, semi-structured, unstructured, and polymorphic. The main types of NoSQL databases are key/value, document, tabular (or wide column), graph or multi-model. As requirements change and new data types are added, it allows them to quickly make modifications. \n",
    "\n",
    "4. Low cost\n",
    "NoSQL databases scale-out horizontally, making it cost-effective to expand capacity. Rather than upgrading expensive hardware, they can cheaply expand by simply adding commodity servers or cloud instances."
   ]
  },
  {
   "cell_type": "markdown",
   "metadata": {},
   "source": [
    "NoSQL cons:\n",
    "\n",
    "1. No standardized language:\n",
    "There isn’t a standard language to conduct NoSQL queries. The syntax used to query data varies for the different types of NoSQL databases. Unlike SQL, where there is just one, easy-to-learn language to master, NoSQL has a steeper learning curve.\n",
    "\n",
    "2. Inefficiency with complex queries\n",
    "Flexibility comes with a price. With the variety of data structures found in NoSQL databases, querying isn’t as efficient. Unlike SQL databases, there isn’t a standard interface to conduct complex queries. Even simple NoSQL queries will likely require programming experience.\n",
    "\n",
    "3. Data retrieval inconsistency\n",
    "The distributed nature of NoSQL databases enables data to be available faster. However, it can also make it more difficult to ensure the data is always consistent. Queries might not always return updated data and it’s possible to receive inaccurate information. With its distributed approach, the database could return different values, at the same time, depending on which server happens to be queried. This is one of the reasons NoSQL doesn’t achieve ACID-level compliance."
   ]
  },
  {
   "cell_type": "markdown",
   "metadata": {},
   "source": [
    "### When to use"
   ]
  },
  {
   "cell_type": "markdown",
   "metadata": {},
   "source": [
    "When to use SQL instead of NoSQL\n",
    "\n",
    "1. You’re working with complex queries and reports.\n",
    "With SQL you can build one script that retrieves and presents your data. NoSQL doesn’t support relations between data types. Running queries in NoSQL is doable, but much slower.\n",
    "\n",
    "2. You have a high transaction application.\n",
    "SQL databases are a better fit for heavy duty or complex transactions because it’s more stable and ensure data integrity.\n",
    "\n",
    "3. You need to ensure ACID compliance.\n",
    "(Atomicity, Consistency, Isolation, Durability) or defining exactly how transactions interact with a database. \n",
    "\n",
    "4. You don’t anticipate a lot of changes or growth.\n",
    "If you’re not working with a large volume of data or many data types, NoSQL would be overkill."
   ]
  },
  {
   "cell_type": "markdown",
   "metadata": {},
   "source": [
    "When to use NoSQL instead of SQL\n",
    "\n",
    "1. You are constantly adding new features, functions, data types.\n",
    "In NoSQL, we are working with a highly flexible schema design or no predefined schema. The data modeling process is iterative and adaptive. Changing the structure or schema will not impact development cycles or create any downtime for the application.\n",
    "\n",
    "2. You are not concerned about data consistency and 100% data integrity is not your top goal.\n",
    "This is related to the above SQL requirement for ACID compliance. For example, with social media platforms, it isn’t important if everyone sees your new post at the exact same time, which means data consistency is not a priority.\n",
    "\n",
    "3. Your data needs scale up, out, and down.\n",
    "As discussed above, NoSQL provides much greater flexibility and the ability to control costs as your data needs change."
   ]
  }
 ],
 "metadata": {
  "kernelspec": {
   "display_name": "Python 3 (ipykernel)",
   "language": "python",
   "name": "python3"
  },
  "language_info": {
   "codemirror_mode": {
    "name": "ipython",
    "version": 3
   },
   "file_extension": ".py",
   "mimetype": "text/x-python",
   "name": "python",
   "nbconvert_exporter": "python",
   "pygments_lexer": "ipython3",
   "version": "3.8.3"
  }
 },
 "nbformat": 4,
 "nbformat_minor": 4
}
