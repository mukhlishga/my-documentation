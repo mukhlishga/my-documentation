{
 "cells": [
  {
   "cell_type": "code",
   "execution_count": null,
   "metadata": {},
   "outputs": [],
   "source": [
    "pointer di golang"
   ]
  },
  {
   "cell_type": "code",
   "execution_count": null,
   "metadata": {},
   "outputs": [],
   "source": [
    "type Orang struct {\n",
    "    tinggiBadan int\n",
    "}\n",
    "\n",
    "func (o *Orang) ubahTinggiBadan() {\n",
    "    &tinggiBadan += 1\n",
    "}"
   ]
  },
  {
   "cell_type": "markdown",
   "metadata": {},
   "source": [
    "* adalah pointer ke object Orang. \n",
    "Jika pakai pointer, di fungsi ubahTinggiBadan tinggiBadan diotak atik, setelah program keluar dari fungsi tersebut maka perubahan akan menjadi permanen. Jika tidak memakai pointer, maka nilai akan kembali ke default sebelum fungsi dijalankan. "
   ]
  }
 ],
 "metadata": {
  "kernelspec": {
   "display_name": "Python 3",
   "language": "python",
   "name": "python3"
  },
  "language_info": {
   "codemirror_mode": {
    "name": "ipython",
    "version": 3
   },
   "file_extension": ".py",
   "mimetype": "text/x-python",
   "name": "python",
   "nbconvert_exporter": "python",
   "pygments_lexer": "ipython3",
   "version": "3.8.3"
  }
 },
 "nbformat": 4,
 "nbformat_minor": 4
}
