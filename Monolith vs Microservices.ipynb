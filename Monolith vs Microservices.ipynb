{
 "cells": [
  {
   "cell_type": "markdown",
   "metadata": {},
   "source": [
    "### Monolith"
   ]
  },
  {
   "cell_type": "markdown",
   "metadata": {},
   "source": [
    "Monolith architechture\n",
    "\n",
    "A monolithic application is built as a single and indivisible unit. It is a default model for creating a software application. Usually, such a solution comprises a client-side user interface, a server side-application, and a database. It is unified and all the functions are managed and served in one place. Normally, monolithic applications have one large code base and lack modularity. If developers want to update or change something, they access the same code base. So, they make changes in the whole stack at once."
   ]
  },
  {
   "cell_type": "markdown",
   "metadata": {},
   "source": [
    "Monolith pros\n",
    "\n",
    "1. Simpler to develop\n",
    "As long as the monolithic approach is a standard way of building applications, any engineering team has the right knowledge and capabilities to develop a monolithic application.\n",
    "\n",
    "2. Easier to debug and test\n",
    "In contrast to the microservices architecture, monolithic applications are much easier to debug and test. Since a monolithic app is a single indivisible unit, you can run end-to-end testing much faster.\n",
    "\n",
    "3. Simpler to deploy\n",
    "Another advantage associated with the simplicity of monolithic apps is easier deployment. When it comes to monolithic applications, you do not have to handle many deployments – just one file or directory.\n",
    "\n",
    "4. Less cross-cutting concerns\n",
    "Cross-cutting concerns are the concerns that affect the whole application such as logging, handling, caching, and performance monitoring. In a monolithic application, this area of functionality concerns only one application so it is easier to handle it."
   ]
  },
  {
   "cell_type": "markdown",
   "metadata": {},
   "source": [
    "Monolith cons\n",
    "\n",
    "1. Harder to scale\n",
    "You cannot scale components independently, only the whole application.\n",
    "\n",
    "2. Harder to understand\n",
    "When a monolithic application scales up, it becomes too complicated to understand. Also, a complex system of code within one application is hard to manage.\n",
    "\n",
    "3. Harder to make changes\n",
    "It is harder to implement changes in such a large and complex application with highly tight coupling. Any code change affects the whole system so it has to be thoroughly coordinated. This makes the overall development process much longer.\n",
    "\n",
    "4. Harder to add new technologies\n",
    "It is extremely problematic to apply a new technology in a monolithic application because then the entire application has to be rewritten."
   ]
  },
  {
   "cell_type": "markdown",
   "metadata": {},
   "source": [
    "### Microservices"
   ]
  },
  {
   "cell_type": "markdown",
   "metadata": {},
   "source": [
    "Microservices architechture\n",
    "\n",
    "A microservices architecture breaks it down into a collection of smaller independent units. These units carry out every application process as a separate service, each running in its own process and communicating with lightweight mechanisms. So all the services have their own logic and the database as well as perform the specific functions."
   ]
  },
  {
   "cell_type": "markdown",
   "metadata": {},
   "source": [
    "Microservices pros\n",
    "\n",
    "1. Easier to scale\n",
    "Each element can be scaled independently, so the entire scaling process is more effective in cost and time than monoliths.\n",
    "\n",
    "2. Easier to understand\n",
    "Split up into smaller and simpler components, a microservice application is easier to understand and manage. You just concentrate on a specific service that is related to a business goal you have.\n",
    "\n",
    "2. More agile\n",
    "All the services can be deployed and updated independently, which gives more flexibility. Secondly, a bug in one microservice has an impact only on a particular service and does not influence the entire application. Also, it is much easier to add new features to a microservice application than a monolithic one."
   ]
  },
  {
   "cell_type": "markdown",
   "metadata": {},
   "source": [
    "Microservices cons\n",
    "\n",
    "1. Harder to develop\n",
    "Since a microservices architecture is a distributed system, you have to choose and set up the connections between all the modules and databases.\n",
    "\n",
    "3. Harder to debug and test\n",
    "A multitude of independently deployable components makes testing a microservices-based solution much harder.\n",
    "\n",
    "3. Harder to deploy\n",
    "All of the independent services have to be deployed independently.\n",
    " \n",
    "4. More cross-cutting concerns\n",
    "When creating a microservices application, you will have to deal with a number of cross-cutting concerns. They include externalized configuration, logging, metrics, health checks, and others."
   ]
  },
  {
   "cell_type": "markdown",
   "metadata": {},
   "source": [
    "### When to use"
   ]
  },
  {
   "cell_type": "markdown",
   "metadata": {},
   "source": [
    "When to use monolith\n",
    "\n",
    "1. Small team\n",
    "If you are a startup and your team is small, you may not need to deal with the complexity of the microservices architecture. A monolith can meet all your business needs so there is no emergency to follow the hype and start with microservices.\n",
    "\n",
    "2. A simple application\n",
    "Small applications which do not demand much business logic, superior scalability, and flexibility work better with monolithic architectures.\n",
    "\n",
    "3. No microservices expertise\n",
    "Microservices require profound expertise to work well and bring business value. If you want to start a microservices application from scratch with no technical expertise in it, most probably, it will not pay off.\n",
    "\n",
    "4. Quick launch\n",
    "If you want to develop your application and launch it as soon as possible, a monolithic model is the best choice. It works well when you aim to spend less initially and validate your business idea."
   ]
  },
  {
   "cell_type": "markdown",
   "metadata": {},
   "source": [
    "When to use microservices\n",
    "\n",
    "1. Microservices expertise\n",
    "Without proper skills and knowledge, building a microservice application is extremely risky. You need to have DevOps and Containers experts since the concepts are tightly coupled with microservices. Dealing with microservices means splitting the system into separate functionalities and dividing responsibilities.\n",
    "\n",
    "2. A complex and scalable application\n",
    "The microservices architecture will make scaling and adding new capabilities to your application much easier. So if you plan to develop a large application with multiple modules and user journeys, a microservice pattern would be the best way to handle it.\n",
    "\n",
    "3. Enough engineering resources and skills\n",
    "Since a microservice project comprises multiple teams responsible for multiple services, you need to have enough resources to handle all the processes."
   ]
  }
 ],
 "metadata": {
  "kernelspec": {
   "display_name": "Python 3",
   "language": "python",
   "name": "python3"
  },
  "language_info": {
   "codemirror_mode": {
    "name": "ipython",
    "version": 3
   },
   "file_extension": ".py",
   "mimetype": "text/x-python",
   "name": "python",
   "nbconvert_exporter": "python",
   "pygments_lexer": "ipython3",
   "version": "3.8.3"
  }
 },
 "nbformat": 4,
 "nbformat_minor": 4
}
